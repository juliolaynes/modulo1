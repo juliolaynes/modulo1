{
  "nbformat": 4,
  "nbformat_minor": 0,
  "metadata": {
    "colab": {
      "provenance": []
    },
    "kernelspec": {
      "name": "python3",
      "display_name": "Python 3"
    },
    "language_info": {
      "name": "python"
    }
  },
  "cells": [
    {
      "cell_type": "code",
      "source": [
        "programa {\n",
        "    inicio (){\n",
        "        escreva(\"hello world\")\n",
        "\n",
        "    }\n",
        "}\n"
      ],
      "metadata": {
        "id": "5i_muNE-9RKz"
      },
      "execution_count": null,
      "outputs": []
    }
  ]
}